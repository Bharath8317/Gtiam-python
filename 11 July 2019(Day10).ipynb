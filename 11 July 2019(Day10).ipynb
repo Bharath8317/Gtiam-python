{
 "cells": [
  {
   "cell_type": "markdown",
   "metadata": {},
   "source": [
    "### Standard Libaries\n",
    "- File I/O\n",
    "- Regular Expression\n",
    "- Datetime\n",
    "- Math(numerical and mathematical)"
   ]
  },
  {
   "cell_type": "markdown",
   "metadata": {},
   "source": [
    "### File Handling in Python\n",
    "- File:-Document containing information resides on the permanenet storage\n",
    "- Different types of files:-txt, doc, pdf, csv and etc\n",
    "- Input -- Keyboard\n",
    "- Output -- File\n",
    "### Modes of the files I/o\n",
    "- 'w' -- this mode is used to file writing\n",
    "      -- If the file is not present first it created the file and write some data to it\n",
    "      -- If the file is already present then it will rewrite the previous content"
   ]
  },
  {
   "cell_type": "code",
   "execution_count": 4,
   "metadata": {},
   "outputs": [
    {
     "name": "stdout",
     "output_type": "stream",
     "text": [
      "File is Created and data had written\n"
     ]
    }
   ],
   "source": [
    "#Function to create a file and write to the file\n",
    "def createfile(filename):\n",
    "    f=open(filename,'w')\n",
    "    for i in range(10):\n",
    "        f.write('This is %d Line'% i)\n",
    "    print(\"File is Created and data had written\")\n",
    "    return\n",
    "createfile('file1.txt')"
   ]
  },
  {
   "cell_type": "code",
   "execution_count": 5,
   "metadata": {},
   "outputs": [
    {
     "name": "stdout",
     "output_type": "stream",
     "text": [
      " Volume in drive C has no label.\n",
      " Volume Serial Number is 5EC6-49D4\n",
      "\n",
      " Directory of C:\\Users\\Mendokusai\\Desktop\\Python\n",
      "\n",
      "07/11/2019  09:33 AM    <DIR>          .\n",
      "07/11/2019  09:33 AM    <DIR>          ..\n",
      "07/11/2019  09:12 AM    <DIR>          .ipynb_checkpoints\n",
      "07/05/2019  03:55 PM            10,347 05-July-2019.ipynb\n",
      "07/08/2019  05:23 PM            11,320 08-July-2019.ipynb\n",
      "07/09/2019  04:39 PM            15,798 09 July 2019.ipynb\n",
      "07/10/2019  04:04 PM            24,929 10 July 2019(Day 9).ipynb\n",
      "07/11/2019  09:32 AM             2,768 11 July 2019(Day10).ipynb\n",
      "07/07/2019  10:23 PM             6,949 5-July-2019 assignment examples.ipynb\n",
      "07/07/2019  10:23 PM             6,949 5-July-2019 assignment.ipynb\n",
      "07/08/2019  02:57 PM             9,429 6-07-2019.ipynb\n",
      "07/09/2019  05:14 PM             2,490 Day 8 Assignment.ipynb\n",
      "07/10/2019  03:05 PM             5,983 Day 9 Assignment.ipynb\n",
      "07/11/2019  09:33 AM               140 file1.txt\n",
      "07/07/2019  10:19 PM             1,135 python programms.ipynb\n",
      "              12 File(s)         98,237 bytes\n",
      "               3 Dir(s)  34,869,923,840 bytes free\n"
     ]
    }
   ],
   "source": [
    "ls"
   ]
  },
  {
   "cell_type": "code",
   "execution_count": 6,
   "metadata": {},
   "outputs": [
    {
     "ename": "SyntaxError",
     "evalue": "invalid syntax (<ipython-input-6-0bccb725251b>, line 1)",
     "output_type": "error",
     "traceback": [
      "\u001b[1;36m  File \u001b[1;32m\"<ipython-input-6-0bccb725251b>\"\u001b[1;36m, line \u001b[1;32m1\u001b[0m\n\u001b[1;33m    cat file1.txt\u001b[0m\n\u001b[1;37m            ^\u001b[0m\n\u001b[1;31mSyntaxError\u001b[0m\u001b[1;31m:\u001b[0m invalid syntax\n"
     ]
    }
   ],
   "source": [
    "cat file1.txt"
   ]
  },
  {
   "cell_type": "code",
   "execution_count": 8,
   "metadata": {},
   "outputs": [
    {
     "name": "stdout",
     "output_type": "stream",
     "text": [
      "File is Created and data had written\n"
     ]
    }
   ],
   "source": [
    "def createfile(filename):\n",
    "    f=open(filename,'w')\n",
    "    f.write('Testing..\\n')\n",
    "    print(\"File is Created and data had written\")\n",
    "    return\n",
    "createfile('file1.txt')"
   ]
  },
  {
   "cell_type": "code",
   "execution_count": 16,
   "metadata": {},
   "outputs": [
    {
     "name": "stdout",
     "output_type": "stream",
     "text": [
      "File created and successfully data written\n"
     ]
    }
   ],
   "source": [
    "def appendData(filename):\n",
    "    f=open(filename,'a')\n",
    "    for i in range(10):\n",
    "        f.write('This is %d Line\\n'% i)\n",
    "    print(\"File created and successfully data written\")\n",
    "    return\n",
    "appendData('file2.txt')"
   ]
  },
  {
   "cell_type": "code",
   "execution_count": 17,
   "metadata": {},
   "outputs": [
    {
     "name": "stdout",
     "output_type": "stream",
     "text": [
      "File created and successfully data written\n"
     ]
    }
   ],
   "source": [
    "def appendData(filename):\n",
    "    f=open(filename,'a')\n",
    "    f.write(\"New Line1 \\n\")\n",
    "    f.write(\"New Line2 \\n\")\n",
    "    print(\"File created and successfully data written\")\n",
    "    f.close()\n",
    "    return\n",
    "appendData('file2.txt')"
   ]
  },
  {
   "cell_type": "code",
   "execution_count": 18,
   "metadata": {},
   "outputs": [
    {
     "name": "stdout",
     "output_type": "stream",
     "text": [
      "This is 0 LineThis is 1 LineThis is 2 LineThis is 3 LineThis is 4 LineThis is 5 LineThis is 6 LineThis is 7 LineThis is 8 LineThis is 9 LineNew Line1 \n",
      "New Line2 \n",
      "New Line1 \n",
      "New Line2 \n",
      "This is 0 Line\n",
      "This is 1 Line\n",
      "This is 2 Line\n",
      "This is 3 Line\n",
      "This is 4 Line\n",
      "This is 5 Line\n",
      "This is 6 Line\n",
      "This is 7 Line\n",
      "This is 8 Line\n",
      "This is 9 Line\n",
      "New Line1 \n",
      "New Line2 \n",
      "\n"
     ]
    }
   ],
   "source": [
    "#Function to read of the file\n",
    "def readfiledata(filename):\n",
    "    f=open(filename,'r')\n",
    "    if f.mode=='r':\n",
    "        x=f.read ()\n",
    "        print(x)\n",
    "    f.close()\n",
    "    return\n",
    "readfiledata('file2.txt')"
   ]
  },
  {
   "cell_type": "code",
   "execution_count": 22,
   "metadata": {},
   "outputs": [
    {
     "name": "stdout",
     "output_type": "stream",
     "text": [
      "Enter the file namedata.txt\n",
      "Enter the mode of the filea\n",
      "The data successfully written\n"
     ]
    }
   ],
   "source": [
    "#Funtion to read the file\n",
    "def fileoperations(filename,mode):\n",
    "    with open(filename,mode)as f:\n",
    "        if f.mode=='r':\n",
    "            data=f.read()\n",
    "            print(data)\n",
    "        elif f.mode=='a':\n",
    "            f.write('Data to the file\\n')         \n",
    "            print('The data successfully written')\n",
    "            return\n",
    "filename=input('Enter the file name')\n",
    "mode=input('Enter the mode of the file')\n",
    "fileoperations(filename,mode)"
   ]
  },
  {
   "cell_type": "code",
   "execution_count": 26,
   "metadata": {},
   "outputs": [
    {
     "name": "stdout",
     "output_type": "stream",
     "text": [
      "Enter the file name : file2.txt\n",
      "Enter the wordThis\n"
     ]
    },
    {
     "data": {
      "text/plain": [
       "11"
      ]
     },
     "execution_count": 26,
     "metadata": {},
     "output_type": "execute_result"
    }
   ],
   "source": [
    "#Data Analysis\n",
    "#Word Count Program\n",
    "def wordcount(filename,word):\n",
    "    with open(filename,'r')as f:\n",
    "        if f.mode=='r':\n",
    "            x=f.read()\n",
    "            li=x.split()#Its split the string with whitespace\n",
    "    cnt=li.count(word)\n",
    "    return cnt\n",
    "filename=input('Enter the file name : ')\n",
    "word=input('Enter the word')#Which word count you need\n",
    "wordcount(filename,word)     "
   ]
  },
  {
   "cell_type": "code",
   "execution_count": 28,
   "metadata": {},
   "outputs": [
    {
     "name": "stdout",
     "output_type": "stream",
     "text": [
      "Enter the filename : file2.txt\n"
     ]
    },
    {
     "data": {
      "text/plain": [
       "356"
      ]
     },
     "execution_count": 28,
     "metadata": {},
     "output_type": "execute_result"
    }
   ],
   "source": [
    "#Character counnt from the given file\n",
    "def charactercount(filename):\n",
    "    with open(filename,'r')as f:\n",
    "        if f.mode=='r':\n",
    "            x=f.read()\n",
    "            li=list(x)# Convert the string - Char\n",
    "    return len(li)\n",
    "flinename=input('Enter the filename : ')\n",
    "charactercount(filename)"
   ]
  },
  {
   "cell_type": "code",
   "execution_count": 29,
   "metadata": {},
   "outputs": [
    {
     "name": "stdout",
     "output_type": "stream",
     "text": [
      "Enter the filename : file2.txt\n"
     ]
    },
    {
     "data": {
      "text/plain": [
       "17"
      ]
     },
     "execution_count": 29,
     "metadata": {},
     "output_type": "execute_result"
    }
   ],
   "source": [
    "#Function to find the no of  lines in the input file\n",
    "#Input --- filename(file2.xt)\n",
    "#Output --- no of linea(12)\n",
    "def linescount(filename):\n",
    "    with open(filename,'r')as f:\n",
    "        if f.mode=='r':\n",
    "            x=f.read()\n",
    "            li=x.split(\"\\n\")\n",
    "    return len(li)\n",
    "flinename=input('Enter the filename : ')\n",
    "linescount(filename)"
   ]
  },
  {
   "cell_type": "code",
   "execution_count": 35,
   "metadata": {},
   "outputs": [
    {
     "name": "stdout",
     "output_type": "stream",
     "text": [
      "Enter the filename : file2.txt\n"
     ]
    },
    {
     "data": {
      "text/plain": [
       "'Upper case=52, Lower case=190'"
      ]
     },
     "execution_count": 35,
     "metadata": {},
     "output_type": "execute_result"
    }
   ],
   "source": [
    "#Function to print the Upper and Lower Character\n",
    "def casecount(filename):\n",
    "    cntUpper=0\n",
    "    cntLower=0\n",
    "    with open(filename,'r')as f:\n",
    "        if f.mode=='r':\n",
    "            x=f.read()\n",
    "            li=list(x)\n",
    "    for i in li:\n",
    "        if i.isupper():\n",
    "            cntUpper+=1\n",
    "        elif i.islower():\n",
    "            cntLower+=1\n",
    "    output='Upper case={0}, Lower case={1}'.format(cntUpper,cntLower)\n",
    "    return output\n",
    "flinename=input('Enter the filename : ')\n",
    "casecount(filename)"
   ]
  },
  {
   "cell_type": "markdown",
   "metadata": {},
   "source": [
    "### math,random,os\n",
    "- os package it contains the certain methods which works with os"
   ]
  },
  {
   "cell_type": "code",
   "execution_count": 42,
   "metadata": {},
   "outputs": [
    {
     "name": "stdout",
     "output_type": "stream",
     "text": [
      "C:\\Users\\Mendokusai\\Desktop\n"
     ]
    }
   ],
   "source": [
    "cd .."
   ]
  },
  {
   "cell_type": "code",
   "execution_count": 43,
   "metadata": {},
   "outputs": [
    {
     "name": "stdout",
     "output_type": "stream",
     "text": [
      "C:\\Users\\Mendokusai\\Desktop\\psp\n"
     ]
    }
   ],
   "source": [
    "cd psp"
   ]
  },
  {
   "cell_type": "code",
   "execution_count": 44,
   "metadata": {},
   "outputs": [
    {
     "data": {
      "text/plain": [
       "['.git', 'data.txt', 'file1.txt', 'Gtiam-python', 'test-2', 'test2']"
      ]
     },
     "execution_count": 44,
     "metadata": {},
     "output_type": "execute_result"
    }
   ],
   "source": [
    "import os \n",
    "os.listdir('git/')#Listdir() -- ls"
   ]
  },
  {
   "cell_type": "markdown",
   "metadata": {},
   "source": [
    "- Older version of python -- os.listdir()\n",
    "- New version of python -- os.scandir() and pathlib.Path()"
   ]
  },
  {
   "cell_type": "code",
   "execution_count": 49,
   "metadata": {},
   "outputs": [
    {
     "name": "stdout",
     "output_type": "stream",
     "text": [
      "<DirEntry '.git'>\n",
      "<DirEntry 'data.txt'>\n",
      "<DirEntry 'file1.txt'>\n",
      "<DirEntry 'Gtiam-python'>\n",
      "<DirEntry 'test-2'>\n",
      "<DirEntry 'test2'>\n"
     ]
    }
   ],
   "source": [
    "li=os.scandir('git/')\n",
    "for i in li:\n",
    "    print(i)"
   ]
  },
  {
   "cell_type": "code",
   "execution_count": 54,
   "metadata": {},
   "outputs": [
    {
     "name": "stdout",
     "output_type": "stream",
     "text": [
      ".git\n",
      "data.txt\n",
      "file1.txt\n",
      "Gtiam-python\n",
      "test-2\n",
      "test2\n"
     ]
    }
   ],
   "source": [
    "from pathlib import Path\n",
    "li=Path('git/')\n",
    "for i in li.iterdir():\n",
    "    print(i.name)"
   ]
  },
  {
   "cell_type": "markdown",
   "metadata": {},
   "source": [
    "### Listing all files in a dictionary"
   ]
  },
  {
   "cell_type": "code",
   "execution_count": 59,
   "metadata": {},
   "outputs": [
    {
     "name": "stdout",
     "output_type": "stream",
     "text": [
      "data.txt\n",
      "file1.txt\n"
     ]
    }
   ],
   "source": [
    "import os\n",
    "dirPath=\"git/\"\n",
    "for i in os.listdir(dirPath):\n",
    "    if os.path.isfile(os.path.join(dirPath,i)):\n",
    "        print(i)"
   ]
  },
  {
   "cell_type": "code",
   "execution_count": 60,
   "metadata": {},
   "outputs": [
    {
     "data": {
      "text/plain": [
       "'C:\\\\Users\\\\Mendokusai\\\\Desktop\\\\psp'"
      ]
     },
     "execution_count": 60,
     "metadata": {},
     "output_type": "execute_result"
    }
   ],
   "source": [
    "pwd"
   ]
  },
  {
   "cell_type": "code",
   "execution_count": 61,
   "metadata": {},
   "outputs": [
    {
     "name": "stdout",
     "output_type": "stream",
     "text": [
      "data.txt\n",
      "file1.txt\n"
     ]
    }
   ],
   "source": [
    "dirPath='git/'\n",
    "with os.scandir(dirPath) as f:\n",
    "    for i in f:\n",
    "        if i.is_file():\n",
    "            print(i.name)"
   ]
  },
  {
   "cell_type": "markdown",
   "metadata": {},
   "source": [
    "### Listing Subdirectories"
   ]
  },
  {
   "cell_type": "code",
   "execution_count": 62,
   "metadata": {},
   "outputs": [
    {
     "name": "stdout",
     "output_type": "stream",
     "text": [
      ".git\n",
      "Gtiam-python\n",
      "test-2\n",
      "test2\n"
     ]
    }
   ],
   "source": [
    "dirpath='git/'\n",
    "for i in os.listdir(dirPath):\n",
    "    if os.path.isdir(os.path.join(dirPath,i)):\n",
    "        print(i)"
   ]
  },
  {
   "cell_type": "code",
   "execution_count": 67,
   "metadata": {},
   "outputs": [
    {
     "name": "stdout",
     "output_type": "stream",
     "text": [
      ".git\n",
      "Gtiam-python\n",
      "test-2\n",
      "test2\n"
     ]
    }
   ],
   "source": [
    "from pathlib import Path\n",
    "dirPath=Path('git/')\n",
    "for i in dirPath.iterdir():\n",
    "    if i.is_dir():\n",
    "        print(i.name)"
   ]
  },
  {
   "cell_type": "markdown",
   "metadata": {},
   "source": [
    "### Creating a Singlr Directory"
   ]
  },
  {
   "cell_type": "markdown",
   "metadata": {},
   "source": [
    "os.mkdir('SingleDirectory')"
   ]
  },
  {
   "cell_type": "code",
   "execution_count": 71,
   "metadata": {},
   "outputs": [],
   "source": [
    "import pathlib\n",
    "p=pathlib.Path('TestFolder')\n",
    "p.mkdir()"
   ]
  },
  {
   "cell_type": "code",
   "execution_count": 72,
   "metadata": {},
   "outputs": [
    {
     "name": "stdout",
     "output_type": "stream",
     "text": [
      " Volume in drive C has no label.\n",
      " Volume Serial Number is 5EC6-49D4\n",
      "\n",
      " Directory of C:\\Users\\Mendokusai\\Desktop\\psp\n",
      "\n",
      "07/11/2019  02:46 PM    <DIR>          .\n",
      "07/11/2019  02:46 PM    <DIR>          ..\n",
      "07/05/2019  09:54 AM    <DIR>          git\n",
      "07/11/2019  02:44 PM    <DIR>          SingleDirectory\n",
      "07/11/2019  02:46 PM    <DIR>          TestFolder\n",
      "               0 File(s)              0 bytes\n",
      "               5 Dir(s)  34,899,935,232 bytes free\n"
     ]
    }
   ],
   "source": [
    "ls"
   ]
  },
  {
   "cell_type": "markdown",
   "metadata": {},
   "source": [
    "### Creating Multiple Directory"
   ]
  },
  {
   "cell_type": "code",
   "execution_count": 73,
   "metadata": {},
   "outputs": [],
   "source": [
    "import os\n",
    "os.makedirs('2019/July/11')"
   ]
  },
  {
   "cell_type": "code",
   "execution_count": 74,
   "metadata": {},
   "outputs": [
    {
     "name": "stdout",
     "output_type": "stream",
     "text": [
      " Volume in drive C has no label.\n",
      " Volume Serial Number is 5EC6-49D4\n",
      "\n",
      " Directory of C:\\Users\\Mendokusai\\Desktop\\psp\n",
      "\n",
      "07/11/2019  02:59 PM    <DIR>          .\n",
      "07/11/2019  02:59 PM    <DIR>          ..\n",
      "07/11/2019  02:59 PM    <DIR>          2019\n",
      "07/05/2019  09:54 AM    <DIR>          git\n",
      "07/11/2019  02:44 PM    <DIR>          SingleDirectory\n",
      "07/11/2019  02:46 PM    <DIR>          TestFolder\n",
      "               0 File(s)              0 bytes\n",
      "               6 Dir(s)  34,889,945,088 bytes free\n"
     ]
    }
   ],
   "source": [
    "ls"
   ]
  },
  {
   "cell_type": "markdown",
   "metadata": {},
   "source": [
    "### Filename Pattern Matching"
   ]
  },
  {
   "cell_type": "code",
   "execution_count": 75,
   "metadata": {},
   "outputs": [
    {
     "name": "stdout",
     "output_type": "stream",
     "text": [
      " Volume in drive C has no label.\n",
      " Volume Serial Number is 5EC6-49D4\n",
      "\n",
      " Directory of C:\\Users\\Mendokusai\\Desktop\\psp\n",
      "\n",
      "07/11/2019  02:59 PM    <DIR>          .\n",
      "07/11/2019  02:59 PM    <DIR>          ..\n",
      "07/11/2019  02:59 PM    <DIR>          2019\n",
      "07/05/2019  09:54 AM    <DIR>          git\n",
      "07/11/2019  02:44 PM    <DIR>          SingleDirectory\n",
      "07/11/2019  02:46 PM    <DIR>          TestFolder\n",
      "               0 File(s)              0 bytes\n",
      "               6 Dir(s)  34,890,133,504 bytes free\n"
     ]
    }
   ],
   "source": [
    "ls"
   ]
  },
  {
   "cell_type": "code",
   "execution_count": 79,
   "metadata": {},
   "outputs": [
    {
     "ename": "SyntaxError",
     "evalue": "invalid syntax (<ipython-input-79-5a98c6f8c14d>, line 3)",
     "output_type": "error",
     "traceback": [
      "\u001b[1;36m  File \u001b[1;32m\"<ipython-input-79-5a98c6f8c14d>\"\u001b[1;36m, line \u001b[1;32m3\u001b[0m\n\u001b[1;33m    from f_name in os.listdir(dirPath):\u001b[0m\n\u001b[1;37m                 ^\u001b[0m\n\u001b[1;31mSyntaxError\u001b[0m\u001b[1;31m:\u001b[0m invalid syntax\n"
     ]
    }
   ],
   "source": [
    "import os \n",
    "dirPath='git/'\n",
    "from f_name in os.listdir(dirPath):\n",
    "    if f_name.startswith('G'):\n",
    "        print(f_name)"
   ]
  },
  {
   "cell_type": "markdown",
   "metadata": {},
   "source": [
    "### Deleting Files and Directories"
   ]
  },
  {
   "cell_type": "code",
   "execution_count": 83,
   "metadata": {},
   "outputs": [
    {
     "ename": "PermissionError",
     "evalue": "[WinError 5] Access is denied: '2019'",
     "output_type": "error",
     "traceback": [
      "\u001b[1;31m---------------------------------------------------------------------------\u001b[0m",
      "\u001b[1;31mPermissionError\u001b[0m                           Traceback (most recent call last)",
      "\u001b[1;32m<ipython-input-83-d4aa196b53b2>\u001b[0m in \u001b[0;36m<module>\u001b[1;34m\u001b[0m\n\u001b[0;32m      1\u001b[0m \u001b[1;32mimport\u001b[0m \u001b[0mos\u001b[0m\u001b[1;33m\u001b[0m\u001b[1;33m\u001b[0m\u001b[0m\n\u001b[0;32m      2\u001b[0m \u001b[0mdata_file\u001b[0m\u001b[1;33m=\u001b[0m\u001b[1;34m'2019'\u001b[0m\u001b[1;33m\u001b[0m\u001b[1;33m\u001b[0m\u001b[0m\n\u001b[1;32m----> 3\u001b[1;33m \u001b[0mos\u001b[0m\u001b[1;33m.\u001b[0m\u001b[0mremove\u001b[0m\u001b[1;33m(\u001b[0m\u001b[0mdata_file\u001b[0m\u001b[1;33m)\u001b[0m\u001b[1;33m\u001b[0m\u001b[1;33m\u001b[0m\u001b[0m\n\u001b[0m",
      "\u001b[1;31mPermissionError\u001b[0m: [WinError 5] Access is denied: '2019'"
     ]
    }
   ],
   "source": [
    "import os \n",
    "data_file='2019'\n",
    "os.remove(data_file)"
   ]
  },
  {
   "cell_type": "code",
   "execution_count": 84,
   "metadata": {},
   "outputs": [
    {
     "name": "stdout",
     "output_type": "stream",
     "text": [
      "C:\\Users\\Mendokusai\\Desktop\\psp\\2019\n"
     ]
    }
   ],
   "source": [
    "cd 2019"
   ]
  },
  {
   "cell_type": "code",
   "execution_count": 87,
   "metadata": {},
   "outputs": [
    {
     "name": "stdout",
     "output_type": "stream",
     "text": [
      "C:\\Users\\Mendokusai\\Desktop\\psp\n"
     ]
    }
   ],
   "source": [
    "cd .."
   ]
  },
  {
   "cell_type": "code",
   "execution_count": 89,
   "metadata": {},
   "outputs": [],
   "source": [
    "data_dir='Testfolder'\n",
    "os.rmdir(data_dir)"
   ]
  },
  {
   "cell_type": "code",
   "execution_count": 94,
   "metadata": {},
   "outputs": [
    {
     "name": "stdout",
     "output_type": "stream",
     "text": [
      " Volume in drive C has no label.\n",
      " Volume Serial Number is 5EC6-49D4\n",
      "\n",
      " Directory of C:\\Users\\Mendokusai\\Desktop\\psp\n",
      "\n",
      "07/11/2019  03:27 PM    <DIR>          .\n",
      "07/11/2019  03:27 PM    <DIR>          ..\n",
      "07/05/2019  09:54 AM    <DIR>          git\n",
      "07/11/2019  02:44 PM    <DIR>          SingleDirectory\n",
      "               0 File(s)              0 bytes\n",
      "               4 Dir(s)  34,888,863,744 bytes free\n"
     ]
    }
   ],
   "source": [
    "ls"
   ]
  },
  {
   "cell_type": "code",
   "execution_count": 92,
   "metadata": {},
   "outputs": [],
   "source": [
    "import shutil\n",
    "data_dir='2019'\n",
    "shutil.rmtree(data_dir)"
   ]
  },
  {
   "cell_type": "markdown",
   "metadata": {},
   "source": [
    "### Regular Expressions\n",
    "- Used to specific pattern matching\n",
    "- Symbolic notations of pattern\n",
    "         - "
   ]
  },
  {
   "cell_type": "code",
   "execution_count": null,
   "metadata": {},
   "outputs": [],
   "source": [
    "\n"
   ]
  }
 ],
 "metadata": {
  "kernelspec": {
   "display_name": "Python 3",
   "language": "python",
   "name": "python3"
  },
  "language_info": {
   "codemirror_mode": {
    "name": "ipython",
    "version": 3
   },
   "file_extension": ".py",
   "mimetype": "text/x-python",
   "name": "python",
   "nbconvert_exporter": "python",
   "pygments_lexer": "ipython3",
   "version": "3.7.1"
  }
 },
 "nbformat": 4,
 "nbformat_minor": 2
}
