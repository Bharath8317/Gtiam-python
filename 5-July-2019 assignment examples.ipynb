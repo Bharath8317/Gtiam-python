{
 "cells": [
  {
   "cell_type": "code",
   "execution_count": 2,
   "metadata": {},
   "outputs": [
    {
     "name": "stdout",
     "output_type": "stream",
     "text": [
      "Enter a number2020\n",
      "Leap year\n"
     ]
    }
   ],
   "source": [
    "#Leap year or not\n",
    "n=int(input(\"Enter a number\"))\n",
    "if (n%400==0)or((n%4==0)and(n%100!=0)):\n",
    "    print(\"Leap year\")\n",
    "else:\n",
    "    print(\"Not a Leap year\")"
   ]
  },
  {
   "cell_type": "code",
   "execution_count": 4,
   "metadata": {},
   "outputs": [
    {
     "name": "stdout",
     "output_type": "stream",
     "text": [
      "Enter a number from 1 to 7 : 5\n",
      "Thursday\n"
     ]
    }
   ],
   "source": [
    "# Input week number and print week day\n",
    "n = int(input(\"Enter a number from 1 to 7 : \"))\n",
    "if n == 1 :\n",
    "    print(\"Sunday\")\n",
    "elif n == 2 :\n",
    "    print(\"Monday\")\n",
    "elif n == 3 :\n",
    "    print(\"Tuesday\")\n",
    "elif n == 4 :\n",
    "    print(\"Wednesday\")\n",
    "elif n == 5 :\n",
    "    print(\"Thursday\")\n",
    "elif n == 6 :\n",
    "    print(\"Friday\")\n",
    "elif n == 7 :\n",
    "    print(\"Saturday\")"
   ]
  },
  {
   "cell_type": "code",
   "execution_count": 5,
   "metadata": {},
   "outputs": [
    {
     "name": "stdout",
     "output_type": "stream",
     "text": [
      "Enter the first number  : 1\n",
      "Enter the second number : 2\n",
      "Enter the third number  : 3\n",
      "3 greater\n"
     ]
    }
   ],
   "source": [
    "# To find the largest of the three numbers\n",
    "n1 = int(input(\"Enter the first number  : \"))\n",
    "n2 = int(input(\"Enter the second number : \"))\n",
    "n3 = int(input(\"Enter the third number  : \"))\n",
    "if n1>n2 and n1>n3 :\n",
    "    print(n1, \"greater\")\n",
    "elif n2>n3 and n2>n1 :\n",
    "    print(n2, \"greater\")\n",
    "elif n3>n1 and n3>n2 :\n",
    "    print(n3, \"greater\")"
   ]
  },
  {
   "cell_type": "code",
   "execution_count": 6,
   "metadata": {},
   "outputs": [
    {
     "name": "stdout",
     "output_type": "stream",
     "text": [
      "Enter the number : 4\n",
      "Sum is  10\n"
     ]
    }
   ],
   "source": [
    "# Sum of series 1+2+3+…..+N\n",
    "n = int(input(\"Enter the number : \"))\n",
    "s = int(n*(n+1)/2)\n",
    "print(\"Sum is \",s)"
   ]
  },
  {
   "cell_type": "code",
   "execution_count": 7,
   "metadata": {},
   "outputs": [
    {
     "name": "stdout",
     "output_type": "stream",
     "text": [
      "Enter a number : 6\n",
      "Sum is  9\n"
     ]
    }
   ],
   "source": [
    "# Sum of series 1+3+5+…..+N, Where N is positive odd Integer \n",
    "n = int(input(\"Enter a number : \"))\n",
    "sum = 0\n",
    "for i in range (1,n+1):\n",
    "    if i%2 != 0:\n",
    "        sum += i\n",
    "print(\"Sum is \",sum)"
   ]
  },
  {
   "cell_type": "code",
   "execution_count": 8,
   "metadata": {},
   "outputs": [
    {
     "name": "stdout",
     "output_type": "stream",
     "text": [
      "Enter the range of the series : 4\n",
      "Enter the number : 4\n",
      "Enter the number : 5\n",
      "Enter the number : 6\n",
      "Enter the number : 4\n",
      "Sum is  19\n",
      "Average is  4.75\n"
     ]
    }
   ],
   "source": [
    "# sum and average of given series of numbers,\n",
    "n = int(input(\"Enter the range of the series : \"))\n",
    "sum = 0\n",
    "avg = 0\n",
    "for i in range (1,n+1):\n",
    "    num = int(input(\"Enter the number : \"))\n",
    "    sum += num\n",
    "avg = sum/n\n",
    "print(\"Sum is \",sum)\n",
    "print(\"Average is \",avg)"
   ]
  },
  {
   "cell_type": "code",
   "execution_count": 10,
   "metadata": {},
   "outputs": [
    {
     "name": "stdout",
     "output_type": "stream",
     "text": [
      "Enter coefficient of the x2 : 5\n",
      "Enter coefficent of th x    : 3\n",
      "Enter constant value        : 2\n",
      "Roots are Imaginary\n"
     ]
    }
   ],
   "source": [
    "# Roots of Quadratic Equations AX2+BX+C=0\\n\",\n",
    "A = int(input(\"Enter coefficient of the x2 : \"))\n",
    "B = int(input(\"Enter coefficent of th x    : \"))\n",
    "C = int(input(\"Enter constant value        : \"))\n",
    "d = (B**2)-4*A*C\n",
    "# import math\n",
    "if d == 0 :\n",
    "    print(\"Roots are Equal\")\n",
    "    r1 = (-B)/2*A\n",
    "    r2 = (-B)/2*A\n",
    "    print(\"Root 1 is \",r1)\n",
    "    print(\"Root 2 is \",r2)\n",
    "elif d > 0 :\n",
    "    print(\"Roots are real and distinct\")\n",
    "    r1 = ((-B*B) - math.sqrt(d))/2*A\n",
    "    r2 = ((-B*B) + math.sqrt(d))/2*A\n",
    "    print(\"Root 1 is \",r1)\n",
    "    print(\"Root 2 is \",r2)\n",
    "elif d < 0 :\n",
    "    print(\"Roots are Imaginary\")"
   ]
  },
  {
   "cell_type": "code",
   "execution_count": 11,
   "metadata": {},
   "outputs": [
    {
     "name": "stdout",
     "output_type": "stream",
     "text": [
      "Enter a number : 3\n",
      "1\n",
      "3\n"
     ]
    }
   ],
   "source": [
    "# Find all the divisor of a number\n",
    "n = int(input(\"Enter a number : \"))\n",
    "for i in range (1, n+1):\n",
    "    if n%i == 0 :\n",
    "        print(i)"
   ]
  },
  {
   "cell_type": "code",
   "execution_count": 12,
   "metadata": {},
   "outputs": [
    {
     "name": "stdout",
     "output_type": "stream",
     "text": [
      "Enter side 1 : 5\n",
      "Enter side 2 : 4\n",
      "Enter side 3 : 3\n",
      "Triangle is valid\n"
     ]
    }
   ],
   "source": [
    "# Whether triangle is valid or not\n",
    "s1 = int(input(\"Enter side 1 : \"))\n",
    "s2 = int(input(\"Enter side 2 : \"))\n",
    "s3 = int(input(\"Enter side 3 : \"))\n",
    "if s1+s2>s3 and s2+s3>s1 and s3+s1>s2 : \n",
    "    print(\"Triangle is valid\")\n",
    "else :\n",
    "    print(\"Triangle is not valid\")"
   ]
  },
  {
   "cell_type": "code",
   "execution_count": 13,
   "metadata": {},
   "outputs": [
    {
     "name": "stdout",
     "output_type": "stream",
     "text": [
      "Enter the temperature in Celsius : 60\n",
      "Farenheit Reading is  140.0\n"
     ]
    }
   ],
   "source": [
    "# Convert temperature from Celsius to Fahrenheit\n",
    "c = float(input(\"Enter the temperature in Celsius : \"))\n",
    "f = (9/5)*c+32\n",
    "print(\"Farenheit Reading is \",float(f))"
   ]
  },
  {
   "cell_type": "code",
   "execution_count": null,
   "metadata": {},
   "outputs": [],
   "source": []
  }
 ],
 "metadata": {
  "kernelspec": {
   "display_name": "Python 3",
   "language": "python",
   "name": "python3"
  },
  "language_info": {
   "codemirror_mode": {
    "name": "ipython",
    "version": 3
   },
   "file_extension": ".py",
   "mimetype": "text/x-python",
   "name": "python",
   "nbconvert_exporter": "python",
   "pygments_lexer": "ipython3",
   "version": "3.7.1"
  }
 },
 "nbformat": 4,
 "nbformat_minor": 2
}
