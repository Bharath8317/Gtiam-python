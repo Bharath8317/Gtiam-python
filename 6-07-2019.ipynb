{
 "cells": [
  {
   "cell_type": "code",
   "execution_count": 3,
   "metadata": {},
   "outputs": [
    {
     "name": "stdout",
     "output_type": "stream",
     "text": [
      "Enter number 1 3\n",
      "Enter number 2 5\n",
      "Enter number 3 7\n",
      "7 is the larger number\n"
     ]
    }
   ],
   "source": [
    "#find the large number from the given 3 numbers\n",
    "a1=int(input(\"Enter number 1 \"))\n",
    "a2=int(input(\"Enter number 2 \"))\n",
    "a3=int(input(\"Enter number 3 \"))\n",
    "if a1>a2 and a1>a3:\n",
    "    print(a1,\"is the larger number\")\n",
    "elif a2>a3 and a2>a1:\n",
    "    print(a2,\"is the larger number\")\n",
    "elif a3>a1 and a3>a2:\n",
    "    print(a3,\"is the larger number\")"
   ]
  },
  {
   "cell_type": "code",
   "execution_count": 11,
   "metadata": {},
   "outputs": [
    {
     "name": "stdout",
     "output_type": "stream",
     "text": [
      "Enter Year2020\n",
      "Leap year\n"
     ]
    }
   ],
   "source": [
    "# check if a leap year or not\n",
    "n=int(input(\"Enter Year\"))\n",
    "if (n%400==0)or((n%4==0)and(n%100!=0)):\n",
    "    print(\"Leap year\")\n",
    "else:\n",
    "    print(\"Not a Leap year\")"
   ]
  },
  {
   "cell_type": "markdown",
   "metadata": {},
   "source": [
    "### Iteration\n",
    "- While\n",
    "- for\n",
    "\n",
    "Syntax:\n",
    "        while Boolean_Condition:\n",
    "        statemets\n",
    "        Increment/Decrement\n",
    "        \n",
    "            "
   ]
  },
  {
   "cell_type": "code",
   "execution_count": 12,
   "metadata": {},
   "outputs": [
    {
     "name": "stdout",
     "output_type": "stream",
     "text": [
      "Gitam\n",
      "Gitam\n",
      "Gitam\n",
      "Gitam\n",
      "Gitam\n"
     ]
    }
   ],
   "source": [
    "# Neep print \"Gitam\" for 5 times\n",
    "print(\"Gitam\")\n",
    "print(\"Gitam\")\n",
    "print(\"Gitam\")\n",
    "print(\"Gitam\")\n",
    "print(\"Gitam\")"
   ]
  },
  {
   "cell_type": "code",
   "execution_count": 1,
   "metadata": {},
   "outputs": [
    {
     "name": "stdout",
     "output_type": "stream",
     "text": [
      "Gitam\n",
      "Gitam\n",
      "Gitam\n",
      "Gitam\n",
      "Gitam\n"
     ]
    }
   ],
   "source": [
    "x=0\n",
    "while x<5:\n",
    "    print(\"Gitam\")\n",
    "    x=x+1"
   ]
  },
  {
   "cell_type": "code",
   "execution_count": 7,
   "metadata": {},
   "outputs": [
    {
     "name": "stdout",
     "output_type": "stream",
     "text": [
      "Enter n value10\n",
      "1 2 3 4 5 6 7 8 9 10 "
     ]
    }
   ],
   "source": [
    "#print N natural usinng while loop\n",
    "x=1\n",
    "n=int(input(\"Enter n value\"))\n",
    "while x<=n:\n",
    "    print(x,end = \" \")\n",
    "    x=x+1"
   ]
  },
  {
   "cell_type": "code",
   "execution_count": 20,
   "metadata": {},
   "outputs": [
    {
     "name": "stdout",
     "output_type": "stream",
     "text": [
      "Enter n value10\n",
      "30\n"
     ]
    }
   ],
   "source": [
    "#Read N numbers and Add only even  numbers\n",
    "x=1\n",
    "sum=0\n",
    "n=int(input(\"Enter n value\"))\n",
    "while x<=n:\n",
    "    if x%2==0:\n",
    "        sum=sum+x\n",
    "    x=x+1\n",
    "print(sum)"
   ]
  },
  {
   "cell_type": "code",
   "execution_count": 35,
   "metadata": {},
   "outputs": [
    {
     "name": "stdout",
     "output_type": "stream",
     "text": [
      "Enter n value123\n",
      "3 2 1 "
     ]
    }
   ],
   "source": [
    "#Number as a Nummber -- 123\n",
    "#Print the digits of given number : 3 2 1\n",
    "r=0\n",
    "n=int(input(\"Enter n value\"))\n",
    "while n>0:\n",
    "    r=n%10\n",
    "    print(r,end=\" \")\n",
    "    n=n//10\n"
   ]
  },
  {
   "cell_type": "markdown",
   "metadata": {},
   "source": [
    "### Functional Programming \n",
    "- Simple \n",
    "- Easy Read\n",
    "- Lengthy program divides into sub programs"
   ]
  },
  {
   "cell_type": "code",
   "execution_count": null,
   "metadata": {},
   "outputs": [],
   "source": [
    "def nameofthefunction(<Parameters>):\n",
    "    statement\n",
    "    return"
   ]
  },
  {
   "cell_type": "code",
   "execution_count": 5,
   "metadata": {},
   "outputs": [
    {
     "name": "stdout",
     "output_type": "stream",
     "text": [
      "6\n"
     ]
    }
   ],
   "source": [
    "#REad a number -- 1234\n",
    "#output -- 6(2+4)\n",
    "\n",
    "def addEvendigits(n):\n",
    "    sum=0\n",
    "    while n>0:\n",
    "        r=n%10\n",
    "        if r%2==0:\n",
    "            sum=sum+r\n",
    "            \n",
    "        n=n//10\n",
    "    print(sum)    \n",
    "    return\n",
    "\n",
    "addEvendigits(1234)"
   ]
  },
  {
   "cell_type": "code",
   "execution_count": 17,
   "metadata": {},
   "outputs": [
    {
     "name": "stdout",
     "output_type": "stream",
     "text": [
      "8\n"
     ]
    }
   ],
   "source": [
    "#Read a number --19528\n",
    "#print the large digti  print the number\n",
    "def printlarge(n):\n",
    "    large=0\n",
    "    while n>0:\n",
    "        r=n%10\n",
    "        if r>large:\n",
    "            large=r\n",
    "        n=n//10\n",
    "    print(large)    \n",
    "    return\n",
    "printlarge(1285)"
   ]
  },
  {
   "cell_type": "code",
   "execution_count": 20,
   "metadata": {},
   "outputs": [
    {
     "name": "stdout",
     "output_type": "stream",
     "text": [
      "0\n"
     ]
    }
   ],
   "source": [
    "#Read a nummber Input\n",
    "#Output reverse of the number\n",
    "#123 -- 321\n",
    "def reversenumber(n):\n",
    "    sum=0\n",
    "    while n>0:\n",
    "        r=n%10\n",
    "        sum=(sum*10)+r\n",
    "        n=n//10\n",
    "    print(sum)    \n",
    "    return\n",
    "\n",
    "reversenumber(1234)"
   ]
  },
  {
   "cell_type": "code",
   "execution_count": 29,
   "metadata": {},
   "outputs": [
    {
     "name": "stdout",
     "output_type": "stream",
     "text": [
      "No\n",
      "yes\n"
     ]
    }
   ],
   "source": [
    "#Given number is palidrome or not\n",
    "#Input\n",
    "#123 -- 321 -- No\n",
    "#121 -- 121 -- yes\n",
    "def ispalidrome(n):\n",
    "    sum=0\n",
    "    buffer=n\n",
    "    while n>0:\n",
    "        r=n%10\n",
    "        sum=(sum*10)+r\n",
    "        n=n//10\n",
    "    if buffer==sum:\n",
    "        return \"yes\"\n",
    "    else:\n",
    "        return \"No\"\n",
    "        \n",
    "        \n",
    "print(ispalidrome(123))\n",
    "print(ispalidrome(121))"
   ]
  },
  {
   "cell_type": "code",
   "execution_count": 31,
   "metadata": {},
   "outputs": [
    {
     "name": "stdout",
     "output_type": "stream",
     "text": [
      "1 2 3 4 5 6 7 8 9 10 "
     ]
    }
   ],
   "source": [
    "#Function to print N natural numbers with for loop\n",
    "def printnaturalnumbers(n):\n",
    "    for x in range(1,n+1):\n",
    "        print(x,end=\" \")\n",
    "    return\n",
    "printnaturalnumbers(10)"
   ]
  },
  {
   "cell_type": "code",
   "execution_count": 32,
   "metadata": {},
   "outputs": [
    {
     "name": "stdout",
     "output_type": "stream",
     "text": [
      "11 12 13 14 15 16 17 18 19 20 21 22 23 24 25 "
     ]
    }
   ],
   "source": [
    "#Function to the print the numbers between two limits\n",
    "#input : 11,25\n",
    "#output: 11 12 13 --------- 25\n",
    "def printseries(lb,ub):\n",
    "    for x in range(lb,ub):\n",
    "        print(x,end=\" \")\n",
    "    return\n",
    "printseries(11,26)"
   ]
  },
  {
   "cell_type": "code",
   "execution_count": 42,
   "metadata": {},
   "outputs": [
    {
     "name": "stdout",
     "output_type": "stream",
     "text": [
      "500 502 504 506 508 510 512 514 516 518 520 "
     ]
    }
   ],
   "source": [
    "#function to print alternate numbers\n",
    "#[500,520] -- 500 502 504 506 ------------ 520\n",
    "def alternatenumbers(lb,ub):\n",
    "    for x in range(lb,ub+1,2):\n",
    "        print(x,end=\" \")\n",
    "    return\n",
    "alternatenumbers(500,520)"
   ]
  },
  {
   "cell_type": "code",
   "execution_count": 47,
   "metadata": {},
   "outputs": [
    {
     "name": "stdout",
     "output_type": "stream",
     "text": [
      "10 9 8 7 6 5 4 3 2 1 "
     ]
    }
   ],
   "source": [
    "#Function to the print the series in reverse\n",
    "#Input -- 1,10\n",
    "#Output -- 10,9,8 ------- 1\n",
    "def reverserange(start,end):\n",
    "    for x in range(end,start-1,-1):\n",
    "        print(x,end=\" \")\n",
    "    return\n",
    "reverserange(1,10)"
   ]
  },
  {
   "cell_type": "code",
   "execution_count": null,
   "metadata": {},
   "outputs": [],
   "source": [
    "<img scr = '   ' />"
   ]
  }
 ],
 "metadata": {
  "kernelspec": {
   "display_name": "Python 3",
   "language": "python",
   "name": "python3"
  },
  "language_info": {
   "codemirror_mode": {
    "name": "ipython",
    "version": 3
   },
   "file_extension": ".py",
   "mimetype": "text/x-python",
   "name": "python",
   "nbconvert_exporter": "python",
   "pygments_lexer": "ipython3",
   "version": "3.7.1"
  }
 },
 "nbformat": 4,
 "nbformat_minor": 2
}
