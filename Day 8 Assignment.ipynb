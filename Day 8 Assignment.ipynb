{
 "cells": [
  {
   "cell_type": "code",
   "execution_count": 18,
   "metadata": {},
   "outputs": [
    {
     "name": "stdout",
     "output_type": "stream",
     "text": [
      "14569"
     ]
    }
   ],
   "source": [
    "def linetostring(li):\n",
    "    for i in li:\n",
    "        print(i,end=\"\")\n",
    "    return\n",
    "li=[1,4,5,6,9]\n",
    "linetostring(li)"
   ]
  },
  {
   "cell_type": "code",
   "execution_count": 10,
   "metadata": {},
   "outputs": [
    {
     "name": "stdout",
     "output_type": "stream",
     "text": [
      "46"
     ]
    }
   ],
   "source": [
    "def evennumbers(li):\n",
    "    for x in  li:\n",
    "        if x%2==0 :\n",
    "            print(x,end=\"\")\n",
    "    return\n",
    "li=[1,4,5,6,9]\n",
    "evennumbers(li)"
   ]
  },
  {
   "cell_type": "code",
   "execution_count": 24,
   "metadata": {},
   "outputs": [
    {
     "data": {
      "text/plain": [
       "[1, 4, 3, 16, 5]"
      ]
     },
     "execution_count": 24,
     "metadata": {},
     "output_type": "execute_result"
    }
   ],
   "source": [
    "def evensquare(lst):\n",
    "   \n",
    "    for x in  range(len(li)):\n",
    "        if lst[x]%2==0 :\n",
    "            lst[x]*=lst[x]\n",
    "    return lst \n",
    "lst=[1,2,3,4,5]\n",
    "evensquare(lst)"
   ]
  },
  {
   "cell_type": "code",
   "execution_count": 26,
   "metadata": {},
   "outputs": [
    {
     "data": {
      "text/plain": [
       "[15, 34, 31, 28, 4]"
      ]
     },
     "execution_count": 26,
     "metadata": {},
     "output_type": "execute_result"
    }
   ],
   "source": [
    "#assignment question 4\n",
    "def lis(li):\n",
    "    l2=[]\n",
    "    for x in range(len(li)):\n",
    "        if x==0 or x==len(li)-1:\n",
    "            l2.append(li[x])\n",
    "        else:\n",
    "            l2.append(li[x-1]+li[x])\n",
    "    return l2\n",
    "li=[15,19,12,16,4]\n",
    "lis(li)"
   ]
  },
  {
   "cell_type": "code",
   "execution_count": null,
   "metadata": {},
   "outputs": [],
   "source": []
  }
 ],
 "metadata": {
  "kernelspec": {
   "display_name": "Python 3",
   "language": "python",
   "name": "python3"
  },
  "language_info": {
   "codemirror_mode": {
    "name": "ipython",
    "version": 3
   },
   "file_extension": ".py",
   "mimetype": "text/x-python",
   "name": "python",
   "nbconvert_exporter": "python",
   "pygments_lexer": "ipython3",
   "version": "3.7.1"
  }
 },
 "nbformat": 4,
 "nbformat_minor": 2
}
