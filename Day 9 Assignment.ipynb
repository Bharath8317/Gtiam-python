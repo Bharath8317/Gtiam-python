{
 "cells": [
  {
   "cell_type": "code",
   "execution_count": 15,
   "metadata": {},
   "outputs": [
    {
     "name": "stdout",
     "output_type": "stream",
     "text": [
      "1 3 9 27 81 243 729 2187 6561 19683 59049 177147 531441 1594323 4782969 14348907 43046721 129140163 387420489 1162261467 3486784401 10460353203 31381059609 94143178827 282429536481 847288609443 2541865828329 "
     ]
    }
   ],
   "source": [
    "#  Series Generations:- 1, 3, 9, 27, 81, ...\n",
    "def poweerofnumber(n):\n",
    "    for i in range(0,n**n):\n",
    "        print(n**i,end=\" \")\n",
    "    return\n",
    "poweerofnumber(3)"
   ]
  },
  {
   "cell_type": "code",
   "execution_count": 2,
   "metadata": {},
   "outputs": [
    {
     "name": "stdout",
     "output_type": "stream",
     "text": [
      "1 2 4 8 "
     ]
    }
   ],
   "source": [
    "#Series Generations:- 1, 2, 4, 8, 16, 32, 64, 128, 256, ...\n",
    "def poweerofnumber(n):\n",
    "    for i in range(0,n*n):\n",
    "        print(n**i,end=\" \")\n",
    "    return\n",
    "poweerofnumber(2)"
   ]
  },
  {
   "cell_type": "code",
   "execution_count": 3,
   "metadata": {},
   "outputs": [
    {
     "name": "stdout",
     "output_type": "stream",
     "text": [
      "******\n",
      "\n",
      "*******\n",
      "*\n",
      "\n"
     ]
    }
   ],
   "source": [
    "#The program must accept an integer N the input. The program must print the desired pattern as shown in the Example \n",
    "def pattern(n):\n",
    "    for x in n:\n",
    "        print(\"*\"* int(x))\n",
    "    return\n",
    "n=\"60710\"\n",
    "pattern(n)"
   ]
  },
  {
   "cell_type": "code",
   "execution_count": 16,
   "metadata": {},
   "outputs": [
    {
     "name": "stdout",
     "output_type": "stream",
     "text": [
      "89 55 34 21 13 8 5 3 2 1 1 0 "
     ]
    }
   ],
   "source": [
    "#The program must accept an integer N as the input. The program must print the fibonacci series in the reverse order as the output.\n",
    "def reverseFibonacci(n): \n",
    "    a = [0] * n\n",
    "    a[0] = 0 \n",
    "    a[1] = 1 \n",
    "    for i in range(2, n):\n",
    "        a[i] = a[i - 2] + a[i - 1]  \n",
    "    for i in range(n - 1, -1 , -1):   \n",
    "            print(a[i],end=\" \") \n",
    "n = 12\n",
    "reverseFibonacci(n)  "
   ]
  },
  {
   "cell_type": "code",
   "execution_count": 6,
   "metadata": {},
   "outputs": [
    {
     "name": "stdout",
     "output_type": "stream",
     "text": [
      "\n",
      "\n",
      "1 ! + 2 ! + 3 ! + 4 ! + 5 ! + 6 ! + 7 ! + 8 ! + 9 ! + 10 ! + 11 ! + "
     ]
    }
   ],
   "source": [
    "# Series Generations:- 1! + 2! + 3! + 4! + 5! + ... + n!\n",
    "def fact(n):\n",
    "    f=1\n",
    "    i=1\n",
    "    while(n+1!=i):\n",
    "        f=f*i\n",
    "        i=i+1\n",
    "    return f\n",
    "fact(5)\n",
    "sum=0\n",
    "\n",
    "print(\"\\n\")\n",
    "for i in range(1,12):\n",
    "    print(i,\"! +\",end=\" \")"
   ]
  },
  {
   "cell_type": "code",
   "execution_count": 7,
   "metadata": {},
   "outputs": [
    {
     "name": "stdout",
     "output_type": "stream",
     "text": [
      "Enter string:HebeonTech\n",
      "Enter removing charcter:e\n",
      "HbonTch"
     ]
    }
   ],
   "source": [
    "#Your Program has to read one string as well as one character and you need to remove the all the occurance of the character.\n",
    "#HebeonTech,e -- HbonTch\n",
    "s=input(\"Enter string:\")\n",
    "n=input(\"Enter removing charcter:\")\n",
    "for i in range(len(s)):\n",
    "    if s[i]==n:\n",
    "        s.replace(n,'')\n",
    "    else:\n",
    "        print(s[i],end='')"
   ]
  },
  {
   "cell_type": "code",
   "execution_count": 19,
   "metadata": {},
   "outputs": [
    {
     "name": "stdout",
     "output_type": "stream",
     "text": [
      "TESTING"
     ]
    }
   ],
   "source": [
    "#Your program need to accept a string (alphanuermic) includes white spaces also. The program must print the output in the following way.\n",
    "def wordUpperCase(s):\n",
    "    spaceCnt = 0\n",
    "    for x in range(len(s)):\n",
    "        if ord(s[x])==32:\n",
    "            spaceCnt += 1 #spaceCnt = spaceCnt + 1\n",
    "        if spaceCnt == 1:\n",
    "            if ord(s[x])>=65 and ord(s[x])<=90:\n",
    "                print(s[x],end=\"\")\n",
    "            elif ord(s[x])>=97 and ord(s[x]) <=122:\n",
    "                print(chr(ord(s[x])-32),end=\"\")\n",
    "        if spaceCnt ==2:\n",
    "            return\n",
    "wordUpperCase(\"application Testing\")\n"
   ]
  },
  {
   "cell_type": "code",
   "execution_count": 22,
   "metadata": {},
   "outputs": [
    {
     "name": "stdout",
     "output_type": "stream",
     "text": [
      "2 15 41 80 132 197 275 366 470 587 717 "
     ]
    }
   ],
   "source": [
    "a =2\n",
    "for i in range(1,n):\n",
    "    print(a,end=\" \")\n",
    "    a+=(13*i)\n",
    "    "
   ]
  },
  {
   "cell_type": "code",
   "execution_count": 25,
   "metadata": {},
   "outputs": [
    {
     "name": "stdout",
     "output_type": "stream",
     "text": [
      "1 3 8 15 27 50 92 169 "
     ]
    }
   ],
   "source": [
    "a=1\n",
    "b=3\n",
    "c=4\n",
    "n=10\n",
    "print(a,b,end=\" \")\n",
    "for i in range(4,n):\n",
    "    sum=a+b+c\n",
    "    print(sum,end=\" \")\n",
    "    a=b\n",
    "    b=c\n",
    "    c=sum"
   ]
  },
  {
   "cell_type": "code",
   "execution_count": null,
   "metadata": {},
   "outputs": [],
   "source": []
  }
 ],
 "metadata": {
  "kernelspec": {
   "display_name": "Python 3",
   "language": "python",
   "name": "python3"
  },
  "language_info": {
   "codemirror_mode": {
    "name": "ipython",
    "version": 3
   },
   "file_extension": ".py",
   "mimetype": "text/x-python",
   "name": "python",
   "nbconvert_exporter": "python",
   "pygments_lexer": "ipython3",
   "version": "3.7.1"
  }
 },
 "nbformat": 4,
 "nbformat_minor": 2
}
