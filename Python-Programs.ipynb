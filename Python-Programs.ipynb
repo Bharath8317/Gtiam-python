{
 "cells": [
  {
   "cell_type": "markdown",
   "metadata": {},
   "source": [
    "# Markdown Basics\n",
    "## Markdown Basics\n",
    "### Markdown Basics\n",
    "#### Markdown Basics\n",
    "##### Markdown Basics\n",
    "\n",
    "* **Point1** (Bold)\n",
    "* Point2 (Italic)\n",
    "* ***Point3*** (Bold And Italic)\n",
    "\n",
    "* Normal Text\n",
    " * Sublist 1\n",
    " * sublist 2\n",
    "\n",
    "> 1.Point1\n",
    "> 2.Point2\n",
    "\n",
    "* ***Adding Links to Markdown***\n",
    "\n",
    "* Goolge site -- [1]: https://www.ask.com/\n",
    "\n",
    "* Msn site     -- [2]: https://www.ask.com/\n",
    "\n",
    "\n",
    "- []option1\n",
    "\n",
    "* Google Site -- [Google][1]\n",
    " [1]:https://www.ask.com/\n",
    "\n"
   ]
  },
  {
   "cell_type": "code",
   "execution_count": 2,
   "metadata": {},
   "outputs": [
    {
     "name": "stdout",
     "output_type": "stream",
     "text": [
      "Hello, Gitam\n",
      "Hyderabad\n"
     ]
    }
   ],
   "source": [
    "print(\"Hello, Gitam\")\n",
    "print(\"Hyderabad\")"
   ]
  },
  {
   "cell_type": "code",
   "execution_count": 4,
   "metadata": {},
   "outputs": [
    {
     "name": "stdout",
     "output_type": "stream",
     "text": [
      "Hello, Gitam |||Hyderabad |||Python Programming\n"
     ]
    }
   ],
   "source": [
    "print(\"Hello, Gitam\",\"|||Hyderabad\",\"|||Python Programming\")"
   ]
  },
  {
   "cell_type": "code",
   "execution_count": 8,
   "metadata": {},
   "outputs": [
    {
     "name": "stdout",
     "output_type": "stream",
     "text": [
      "100\n",
      "20 20 20\n",
      "11 22 33\n"
     ]
    }
   ],
   "source": [
    "n1=100\n",
    "a=b=c=20\n",
    "a1,b1,c1=11,22,33\n",
    "print(n1)\n",
    "print(a,b,c)\n",
    "print(a1,b1,c1)"
   ]
  },
  {
   "cell_type": "code",
   "execution_count": null,
   "metadata": {},
   "outputs": [],
   "source": []
  },
  {
   "cell_type": "code",
   "execution_count": null,
   "metadata": {},
   "outputs": [],
   "source": [
    "### Data And Conversions\n",
    " . int\n",
    " . float\n",
    " . string"
   ]
  },
  {
   "cell_type": "code",
   "execution_count": 9,
   "metadata": {},
   "outputs": [
    {
     "name": "stdout",
     "output_type": "stream",
     "text": [
      "100 Python p 10.2\n",
      "<class 'int'> <class 'str'> <class 'str'> <class 'float'>\n"
     ]
    }
   ],
   "source": [
    "a=100\n",
    "s1=\"Python\"\n",
    "s2='p'\n",
    "f1=10.2\n",
    "print(a,s1,s2,f1)\n",
    "print(type(a),type(s1),type(s2),type(f1))"
   ]
  },
  {
   "cell_type": "code",
   "execution_count": 10,
   "metadata": {},
   "outputs": [
    {
     "name": "stdout",
     "output_type": "stream",
     "text": [
      "Hello World!\n",
      "Hello World!\n"
     ]
    }
   ],
   "source": [
    "print(\"Hello World!\\nHello World!\")"
   ]
  },
  {
   "cell_type": "code",
   "execution_count": 11,
   "metadata": {},
   "outputs": [
    {
     "name": "stdout",
     "output_type": "stream",
     "text": [
      "<class 'int'>\n",
      "<class 'str'>\n",
      "<class 'float'>\n"
     ]
    }
   ],
   "source": [
    "i=100\n",
    "print(type(i))\n",
    "s1=str(i)\n",
    "print(type(s1))\n",
    "f1=float(i)\n",
    "print(type(f1))"
   ]
  },
  {
   "cell_type": "code",
   "execution_count": 16,
   "metadata": {},
   "outputs": [
    {
     "name": "stdout",
     "output_type": "stream",
     "text": [
      "<class 'str'>\n",
      "<class 'int'>\n",
      "<class 'int'>\n",
      "1\n"
     ]
    }
   ],
   "source": [
    "s1=\"100\"\n",
    "print(type(s1))\n",
    "a=int(s1)\n",
    "print(type(a))\n",
    "f=1.5\n",
    "a1=int(f)\n",
    "print(type(a1))\n",
    "print(a1)"
   ]
  },
  {
   "cell_type": "code",
   "execution_count": 17,
   "metadata": {},
   "outputs": [
    {
     "name": "stdout",
     "output_type": "stream",
     "text": [
      "4\n"
     ]
    }
   ],
   "source": [
    "# A number is given 1234\n",
    "# Digit count\n",
    "a1=1234\n",
    "print(len(str(a1)))"
   ]
  },
  {
   "cell_type": "markdown",
   "metadata": {},
   "source": [
    "### Reading a value\n",
    "- Input(\"Message\") -- String"
   ]
  },
  {
   "cell_type": "code",
   "execution_count": null,
   "metadata": {},
   "outputs": [],
   "source": []
  },
  {
   "cell_type": "code",
   "execution_count": null,
   "metadata": {},
   "outputs": [],
   "source": [
    "a1 = input(\"Enter your name\")\n",
    "print(a1)\n",
    "print(type(a1))"
   ]
  },
  {
   "cell_type": "code",
   "execution_count": 1,
   "metadata": {},
   "outputs": [
    {
     "name": "stdout",
     "output_type": "stream",
     "text": [
      "Enter your nameram\n",
      "ram\n",
      "<class 'str'>\n"
     ]
    }
   ],
   "source": [
    "a1 = input(\"Enter your name\")\n",
    "print(a1)\n",
    "print(type(a1))\n"
   ]
  },
  {
   "cell_type": "code",
   "execution_count": 5,
   "metadata": {},
   "outputs": [
    {
     "name": "stdout",
     "output_type": "stream",
     "text": [
      "Enter a number1234\n",
      "1234 <class 'int'>\n"
     ]
    }
   ],
   "source": [
    "# want a number as a input\n",
    "n1=int(input(\"Enter a number\"))\n",
    "print(n1,type(n1))\n"
   ]
  },
  {
   "cell_type": "markdown",
   "metadata": {},
   "source": [
    "## Operators\n",
    "* Operator is a symbol is used to perform a specific kind of operation\n",
    "## Arithematic\n",
    "* +\n",
    "* /\n",
    "* -\n",
    "* *\n",
    "* %\n",
    "* **\n",
    "* //"
   ]
  },
  {
   "cell_type": "code",
   "execution_count": 7,
   "metadata": {
    "scrolled": true
   },
   "outputs": [
    {
     "name": "stdout",
     "output_type": "stream",
     "text": [
      "1244\n",
      "1224\n",
      "12340\n",
      "123.4\n",
      "4\n",
      "123\n",
      "8187505353567209228244052427776\n"
     ]
    }
   ],
   "source": [
    "n=1234\n",
    "print(n+10)\n",
    "print(n-10)\n",
    "print(n*10)\n",
    "print(n/10)\n",
    "print(n%10)\n",
    "print(n//10)\n",
    "print(n**10)"
   ]
  },
  {
   "cell_type": "markdown",
   "metadata": {},
   "source": [
    "### Precedence of the Arth Operator\n",
    "\n",
    " - Parenthesis\n",
    " - Power\n",
    " - Multiplicaation\n",
    " - Addtion\n",
    "\n",
    "### Left to Right"
   ]
  },
  {
   "cell_type": "code",
   "execution_count": 10,
   "metadata": {},
   "outputs": [
    {
     "name": "stdout",
     "output_type": "stream",
     "text": [
      "8.0\n"
     ]
    }
   ],
   "source": [
    "x=1+2**3/4+5\n",
    "print(x)"
   ]
  },
  {
   "cell_type": "code",
   "execution_count": 11,
   "metadata": {},
   "outputs": [
    {
     "name": "stdout",
     "output_type": "stream",
     "text": [
      "11.0\n"
     ]
    }
   ],
   "source": [
    "x=1+2**3/4*5\n",
    "print(x)"
   ]
  },
  {
   "cell_type": "markdown",
   "metadata": {},
   "source": [
    "### Relational Operator\n",
    " - ==\n",
    " - !=\n",
    " - Greater Than(>)\n",
    " - Less Than(<)\n",
    " - Less Than or Equal to(<=)\n",
    " - Greater Than or Equal to(>=)"
   ]
  },
  {
   "cell_type": "code",
   "execution_count": 12,
   "metadata": {},
   "outputs": [
    {
     "name": "stdout",
     "output_type": "stream",
     "text": [
      "False\n"
     ]
    }
   ],
   "source": [
    "x=10\n",
    "a1=x>15\n",
    "print(a1)"
   ]
  },
  {
   "cell_type": "markdown",
   "metadata": {},
   "source": [
    "### Logical Operators\n",
    "#### Used to combine more than single condition\n",
    "\n",
    " - and\n",
    " - or\n",
    " - not"
   ]
  },
  {
   "cell_type": "code",
   "execution_count": 13,
   "metadata": {},
   "outputs": [
    {
     "name": "stdout",
     "output_type": "stream",
     "text": [
      "True\n",
      "False\n"
     ]
    }
   ],
   "source": [
    "i=100\n",
    "a1=(i>15)and(i<800)\n",
    "a2=(i>15)and(i>800)\n",
    "print(a1)\n",
    "print(a2)"
   ]
  },
  {
   "cell_type": "markdown",
   "metadata": {},
   "source": [
    "### Control flow Statements\n",
    " - Conditional statements\n",
    " - Looping Statements\n",
    " \n",
    "#### if-else stetement\n",
    "\n",
    "if boolean_Condition\n",
    "**syntax**\n",
    "if Boolean_Conditon\n",
    "Statements\n",
    "else:\n",
    "Statements"
   ]
  },
  {
   "cell_type": "code",
   "execution_count": 17,
   "metadata": {},
   "outputs": [
    {
     "name": "stdout",
     "output_type": "stream",
     "text": [
      "Enter a number 6\n",
      "Even\n"
     ]
    }
   ],
   "source": [
    "# To check given number is even or odd\n",
    "n=int(input(\"Enter a number \"))\n",
    "if n%2==0:\n",
    "    print(\"Even\")\n",
    "else:\n",
    "    print(\"Odd\")"
   ]
  },
  {
   "cell_type": "code",
   "execution_count": 19,
   "metadata": {},
   "outputs": [
    {
     "name": "stdout",
     "output_type": "stream",
     "text": [
      "Enter a number15\n",
      "Yes\n"
     ]
    }
   ],
   "source": [
    "# To check given number is perfectly multiple of 3 and 5\n",
    "n=int(input(\"Enter a number\"))\n",
    "if n%3==0 and n%5==0:\n",
    "    print(\"Yes\")\n",
    "else:\n",
    "    print(\"No\")"
   ]
  },
  {
   "cell_type": "code",
   "execution_count": 28,
   "metadata": {},
   "outputs": [
    {
     "name": "stdout",
     "output_type": "stream",
     "text": [
      "Enter a number55\n",
      "positive\n"
     ]
    }
   ],
   "source": [
    "#Test given number is positive, negative or zero\n",
    "n=int(input(\"Enter a number\"))\n",
    "if n==0:\n",
    "    print(\"Zero\")\n",
    "elif n>0:\n",
    "    print(\"positive\")\n",
    "elif n<0:\n",
    "    print(\"negative\")"
   ]
  },
  {
   "cell_type": "code",
   "execution_count": null,
   "metadata": {},
   "outputs": [],
   "source": []
  },
  {
   "cell_type": "code",
   "execution_count": null,
   "metadata": {},
   "outputs": [],
   "source": []
  }
 ],
 "metadata": {
  "kernelspec": {
   "display_name": "Python 3",
   "language": "python",
   "name": "python3"
  },
  "language_info": {
   "codemirror_mode": {
    "name": "ipython",
    "version": 3
   },
   "file_extension": ".py",
   "mimetype": "text/x-python",
   "name": "python",
   "nbconvert_exporter": "python",
   "pygments_lexer": "ipython3",
   "version": "3.7.1"
  }
 },
 "nbformat": 4,
 "nbformat_minor": 2
}
